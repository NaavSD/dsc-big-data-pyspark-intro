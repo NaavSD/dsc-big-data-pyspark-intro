{
 "cells": [
  {
   "cell_type": "markdown",
   "metadata": {},
   "source": [
    "# Big Data and (Py)Spark - Introduction"
   ]
  },
  {
   "cell_type": "markdown",
   "metadata": {},
   "source": [
    "## Introduction\n",
    "In this section, you will be introduced to the idea of big data and the tools data scientists use to manage it.\n",
    "\n",
    "## Big Data\n",
    "\n",
    "Big data is undoubtedly one of the most hyped terms in data science these days. Big data analytics involves dealing with data that is large in volume and high in variety and velocity, making it challenging for data scientists to run their routine analysis activities. In this section, you'll learn the basics of dealing with big data through parallel and distributed computing.\n",
    "\n",
    "### Parallel and Distributed Computing with MapReduce\n",
    "\n",
    "We start this section by providing more context on the ideas of parallel and distributed computing and **MapReduce**. When talking about distributed and parallel computing, we refer to the fact that complex (and big) data science tasks can be executed over a cluster of interconnected computers instead of on just one machine. You'll learn that MapReduce allows us to convert these big datasets into sets of tuples as key:value pairs, as we'll cover in more detail in this section.\n",
    "\n",
    "## Apache Spark and PySpark\n",
    "\n",
    "**Apache Spark** is an open-source distributed cluster-computing framework that makes it easier (and feasible) to use huge amounts of data! It was developed in response to limitations of MapReduce and written using the Scala programming language. Fortunately for Python developers, there is also a Python interface for Spark called **PySpark**. Throughout these lessons we will use the terms \"Spark\" and \"PySpark\" fairly interchangeably, though technically \"Spark\" is the underlying framework and \"PySpark\" is the Python library we'll be using.\n",
    "\n",
    "### RDDs (Resilient Distributed Datasets) \n",
    "\n",
    "Resilient Distributed Datasets (RDDs) are the core concept in PySpark. RDDs are immutable distributed collections of data objects. Each dataset in RDD is divided into logical partitions, which may be computed on different computers (so-called \"nodes\") in the Spark cluster. In this section, you'll learn how RDDs in Spark work. Additionally, you'll learn that RDD operations can be split into actions and transformations. \n",
    "\n",
    "### Word Count with MapReduce\n",
    "\n",
    "You'll use MapReduce to solve a basic NLP task where you compare the attributes of different authors of various texts.\n",
    "\n",
    "### Machine Learning with Spark\n",
    "\n",
    "After you've solved a basic MapReduce problem, you will learn about employing the machine learning modules of PySpark. You will perform both a regression and classification problem and get the chance to build a full parallelizable data science pipeline that can scale to work with big data. In this section, you'll also get a chance to work with PySpark DataFrames.\n",
    "\n",
    "### Installing and Configuring PySpark with Docker\n",
    "\n",
    "PySpark was not part of the original environment setup you completed. While the interface is in Python, Spark relies on an underlying Java virtual machine (JVM) that can be challenging to install. Therefore rather than installing Spark on your computer directly, we'll go over how to use a Docker container for this purpose."
   ]
  },
  {
   "cell_type": "markdown",
   "metadata": {},
   "source": [
    "## Summary\n",
    "\n",
    "In this section, you'll learn the foundations of Big Data and how to manage it with Apache Spark!"
   ]
  }
 ],
 "metadata": {
  "kernelspec": {
   "display_name": "Python (learn-env)",
   "language": "python",
   "name": "learn-env"
  },
  "language_info": {
   "codemirror_mode": {
    "name": "ipython",
    "version": 3
   },
   "file_extension": ".py",
   "mimetype": "text/x-python",
   "name": "python",
   "nbconvert_exporter": "python",
   "pygments_lexer": "ipython3",
   "version": "3.8.5"
  }
 },
 "nbformat": 4,
 "nbformat_minor": 2
}
